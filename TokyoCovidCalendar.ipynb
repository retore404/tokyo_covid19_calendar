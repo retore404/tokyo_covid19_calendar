{
  "nbformat": 4,
  "nbformat_minor": 0,
  "metadata": {
    "colab": {
      "name": "TokyoCovidCalendar.ipynb",
      "provenance": [],
      "authorship_tag": "ABX9TyOgmYcw9x48+Fl1Ri6jI47H"
    },
    "kernelspec": {
      "name": "python3",
      "display_name": "Python 3"
    }
  },
  "cells": [
    {
      "cell_type": "code",
      "metadata": {
        "id": "2zY66EC53N_X",
        "colab_type": "code",
        "colab": {}
      },
      "source": [
        "# インポート\n",
        "import pandas as pd\n",
        "import datetime\n",
        "import matplotlib.pyplot as plt"
      ],
      "execution_count": 1,
      "outputs": []
    },
    {
      "cell_type": "code",
      "metadata": {
        "id": "uh6syWNJ_uVj",
        "colab_type": "code",
        "colab": {}
      },
      "source": [
        "# 共通関数の定義\n",
        "def getNumberOfWeeksAndDays(sdate, edate): # 対象日が起算日から見て何週目の何日目かを返す関数\n",
        "  # 引数の日数差を計算\n",
        "  dif_days_delta = edate - sdate # datetimeのtimedelta\n",
        "  dif_days = dif_days_delta.days # int値\n",
        "\n",
        "  # 7で割った商と余りを算出\n",
        "  num_week, num_day = divmod(dif_days, 7.0)\n",
        "  if num_day > 0:\n",
        "    num_week = num_week + 1\n",
        "  \n",
        "  return num_week, num_day"
      ],
      "execution_count": 2,
      "outputs": []
    },
    {
      "cell_type": "code",
      "metadata": {
        "id": "dZsPg-iE4eLY",
        "colab_type": "code",
        "colab": {}
      },
      "source": [
        "# 定数定義\n",
        "START_DAY = datetime.date(year=2020, month=1, day=19-1) # 計算起点日（後の週数計算のため18日を起点日に変更する）\n",
        "END_DAY = datetime.date.today() # 本日の日付"
      ],
      "execution_count": 3,
      "outputs": []
    },
    {
      "cell_type": "code",
      "metadata": {
        "id": "aXVKVHt43aJl",
        "colab_type": "code",
        "colab": {
          "base_uri": "https://localhost:8080/",
          "height": 323
        },
        "outputId": "170399b4-5e18-4805-a331-f865f6666fa3"
      },
      "source": [
        "# データの読み込み\n",
        "data_src = pd.read_csv('https://stopcovid19.metro.tokyo.lg.jp/data/130001_tokyo_covid19_patients.csv')\n",
        "data_src.head()"
      ],
      "execution_count": 4,
      "outputs": [
        {
          "output_type": "execute_result",
          "data": {
            "text/html": [
              "<div>\n",
              "<style scoped>\n",
              "    .dataframe tbody tr th:only-of-type {\n",
              "        vertical-align: middle;\n",
              "    }\n",
              "\n",
              "    .dataframe tbody tr th {\n",
              "        vertical-align: top;\n",
              "    }\n",
              "\n",
              "    .dataframe thead th {\n",
              "        text-align: right;\n",
              "    }\n",
              "</style>\n",
              "<table border=\"1\" class=\"dataframe\">\n",
              "  <thead>\n",
              "    <tr style=\"text-align: right;\">\n",
              "      <th></th>\n",
              "      <th>No</th>\n",
              "      <th>全国地方公共団体コード</th>\n",
              "      <th>都道府県名</th>\n",
              "      <th>市区町村名</th>\n",
              "      <th>公表_年月日</th>\n",
              "      <th>曜日</th>\n",
              "      <th>発症_年月日</th>\n",
              "      <th>患者_居住地</th>\n",
              "      <th>患者_年代</th>\n",
              "      <th>患者_性別</th>\n",
              "      <th>患者_属性</th>\n",
              "      <th>患者_状態</th>\n",
              "      <th>患者_症状</th>\n",
              "      <th>患者_渡航歴の有無フラグ</th>\n",
              "      <th>備考</th>\n",
              "      <th>退院済フラグ</th>\n",
              "    </tr>\n",
              "  </thead>\n",
              "  <tbody>\n",
              "    <tr>\n",
              "      <th>0</th>\n",
              "      <td>1</td>\n",
              "      <td>130001</td>\n",
              "      <td>東京都</td>\n",
              "      <td>NaN</td>\n",
              "      <td>2020-01-24</td>\n",
              "      <td>金</td>\n",
              "      <td>NaN</td>\n",
              "      <td>湖北省武漢市</td>\n",
              "      <td>40代</td>\n",
              "      <td>男性</td>\n",
              "      <td>NaN</td>\n",
              "      <td>NaN</td>\n",
              "      <td>NaN</td>\n",
              "      <td>NaN</td>\n",
              "      <td>NaN</td>\n",
              "      <td>1.0</td>\n",
              "    </tr>\n",
              "    <tr>\n",
              "      <th>1</th>\n",
              "      <td>2</td>\n",
              "      <td>130001</td>\n",
              "      <td>東京都</td>\n",
              "      <td>NaN</td>\n",
              "      <td>2020-01-25</td>\n",
              "      <td>土</td>\n",
              "      <td>NaN</td>\n",
              "      <td>湖北省武漢市</td>\n",
              "      <td>30代</td>\n",
              "      <td>女性</td>\n",
              "      <td>NaN</td>\n",
              "      <td>NaN</td>\n",
              "      <td>NaN</td>\n",
              "      <td>NaN</td>\n",
              "      <td>NaN</td>\n",
              "      <td>1.0</td>\n",
              "    </tr>\n",
              "    <tr>\n",
              "      <th>2</th>\n",
              "      <td>3</td>\n",
              "      <td>130001</td>\n",
              "      <td>東京都</td>\n",
              "      <td>NaN</td>\n",
              "      <td>2020-01-30</td>\n",
              "      <td>木</td>\n",
              "      <td>NaN</td>\n",
              "      <td>湖南省長沙市</td>\n",
              "      <td>30代</td>\n",
              "      <td>女性</td>\n",
              "      <td>NaN</td>\n",
              "      <td>NaN</td>\n",
              "      <td>NaN</td>\n",
              "      <td>NaN</td>\n",
              "      <td>NaN</td>\n",
              "      <td>1.0</td>\n",
              "    </tr>\n",
              "    <tr>\n",
              "      <th>3</th>\n",
              "      <td>4</td>\n",
              "      <td>130001</td>\n",
              "      <td>東京都</td>\n",
              "      <td>NaN</td>\n",
              "      <td>2020-02-13</td>\n",
              "      <td>木</td>\n",
              "      <td>NaN</td>\n",
              "      <td>都内</td>\n",
              "      <td>70代</td>\n",
              "      <td>男性</td>\n",
              "      <td>NaN</td>\n",
              "      <td>NaN</td>\n",
              "      <td>NaN</td>\n",
              "      <td>NaN</td>\n",
              "      <td>NaN</td>\n",
              "      <td>1.0</td>\n",
              "    </tr>\n",
              "    <tr>\n",
              "      <th>4</th>\n",
              "      <td>5</td>\n",
              "      <td>130001</td>\n",
              "      <td>東京都</td>\n",
              "      <td>NaN</td>\n",
              "      <td>2020-02-14</td>\n",
              "      <td>金</td>\n",
              "      <td>NaN</td>\n",
              "      <td>都内</td>\n",
              "      <td>50代</td>\n",
              "      <td>女性</td>\n",
              "      <td>NaN</td>\n",
              "      <td>NaN</td>\n",
              "      <td>NaN</td>\n",
              "      <td>NaN</td>\n",
              "      <td>NaN</td>\n",
              "      <td>1.0</td>\n",
              "    </tr>\n",
              "  </tbody>\n",
              "</table>\n",
              "</div>"
            ],
            "text/plain": [
              "   No  全国地方公共団体コード 都道府県名  市区町村名  ... 患者_症状 患者_渡航歴の有無フラグ  備考 退院済フラグ\n",
              "0   1       130001   東京都    NaN  ...   NaN          NaN NaN    1.0\n",
              "1   2       130001   東京都    NaN  ...   NaN          NaN NaN    1.0\n",
              "2   3       130001   東京都    NaN  ...   NaN          NaN NaN    1.0\n",
              "3   4       130001   東京都    NaN  ...   NaN          NaN NaN    1.0\n",
              "4   5       130001   東京都    NaN  ...   NaN          NaN NaN    1.0\n",
              "\n",
              "[5 rows x 16 columns]"
            ]
          },
          "metadata": {
            "tags": []
          },
          "execution_count": 4
        }
      ]
    },
    {
      "cell_type": "code",
      "metadata": {
        "id": "towhw7bo31yS",
        "colab_type": "code",
        "colab": {}
      },
      "source": [
        "# 結果格納用リストの生成\n",
        "## 計算起点週（2020-01-19週）から見て今日は何週目にあたるか\n",
        "weekn, dayn = getNumberOfWeeksAndDays(START_DAY, END_DAY)"
      ],
      "execution_count": 5,
      "outputs": []
    },
    {
      "cell_type": "code",
      "metadata": {
        "id": "6EVVnTg67ZT8",
        "colab_type": "code",
        "colab": {
          "base_uri": "https://localhost:8080/",
          "height": 493
        },
        "outputId": "9216b61a-63f4-4d05-8a40-034d1428d880"
      },
      "source": [
        "## 結果格納用のリストを準備\n",
        "result = []\n",
        "\n",
        "## 初期化されたリストを週数分準備\n",
        "for i in range(int(weekn)):\n",
        "  result.append([0, 0, 0, 0, 0, 0, 0])\n",
        "result"
      ],
      "execution_count": 6,
      "outputs": [
        {
          "output_type": "execute_result",
          "data": {
            "text/plain": [
              "[[0, 0, 0, 0, 0, 0, 0],\n",
              " [0, 0, 0, 0, 0, 0, 0],\n",
              " [0, 0, 0, 0, 0, 0, 0],\n",
              " [0, 0, 0, 0, 0, 0, 0],\n",
              " [0, 0, 0, 0, 0, 0, 0],\n",
              " [0, 0, 0, 0, 0, 0, 0],\n",
              " [0, 0, 0, 0, 0, 0, 0],\n",
              " [0, 0, 0, 0, 0, 0, 0],\n",
              " [0, 0, 0, 0, 0, 0, 0],\n",
              " [0, 0, 0, 0, 0, 0, 0],\n",
              " [0, 0, 0, 0, 0, 0, 0],\n",
              " [0, 0, 0, 0, 0, 0, 0],\n",
              " [0, 0, 0, 0, 0, 0, 0],\n",
              " [0, 0, 0, 0, 0, 0, 0],\n",
              " [0, 0, 0, 0, 0, 0, 0],\n",
              " [0, 0, 0, 0, 0, 0, 0],\n",
              " [0, 0, 0, 0, 0, 0, 0],\n",
              " [0, 0, 0, 0, 0, 0, 0],\n",
              " [0, 0, 0, 0, 0, 0, 0],\n",
              " [0, 0, 0, 0, 0, 0, 0],\n",
              " [0, 0, 0, 0, 0, 0, 0],\n",
              " [0, 0, 0, 0, 0, 0, 0],\n",
              " [0, 0, 0, 0, 0, 0, 0],\n",
              " [0, 0, 0, 0, 0, 0, 0],\n",
              " [0, 0, 0, 0, 0, 0, 0],\n",
              " [0, 0, 0, 0, 0, 0, 0],\n",
              " [0, 0, 0, 0, 0, 0, 0],\n",
              " [0, 0, 0, 0, 0, 0, 0]]"
            ]
          },
          "metadata": {
            "tags": []
          },
          "execution_count": 6
        }
      ]
    },
    {
      "cell_type": "code",
      "metadata": {
        "id": "cPYCFxtw8CGV",
        "colab_type": "code",
        "colab": {
          "base_uri": "https://localhost:8080/",
          "height": 419
        },
        "outputId": "a659e377-6922-4081-953e-f1d36951ab96"
      },
      "source": [
        "# 入力データの整形（公表年月日ごとに件数カウント）\n",
        "vc = data_src['公表_年月日'].value_counts()\n",
        "df = pd.DataFrame(vc)\n",
        "df = df.rename(columns={'公表_年月日': '発表件数'})\n",
        "df"
      ],
      "execution_count": 7,
      "outputs": [
        {
          "output_type": "execute_result",
          "data": {
            "text/html": [
              "<div>\n",
              "<style scoped>\n",
              "    .dataframe tbody tr th:only-of-type {\n",
              "        vertical-align: middle;\n",
              "    }\n",
              "\n",
              "    .dataframe tbody tr th {\n",
              "        vertical-align: top;\n",
              "    }\n",
              "\n",
              "    .dataframe thead th {\n",
              "        text-align: right;\n",
              "    }\n",
              "</style>\n",
              "<table border=\"1\" class=\"dataframe\">\n",
              "  <thead>\n",
              "    <tr style=\"text-align: right;\">\n",
              "      <th></th>\n",
              "      <th>発表件数</th>\n",
              "    </tr>\n",
              "  </thead>\n",
              "  <tbody>\n",
              "    <tr>\n",
              "      <th>2020-07-23</th>\n",
              "      <td>366</td>\n",
              "    </tr>\n",
              "    <tr>\n",
              "      <th>2020-07-25</th>\n",
              "      <td>295</td>\n",
              "    </tr>\n",
              "    <tr>\n",
              "      <th>2020-07-17</th>\n",
              "      <td>293</td>\n",
              "    </tr>\n",
              "    <tr>\n",
              "      <th>2020-07-18</th>\n",
              "      <td>290</td>\n",
              "    </tr>\n",
              "    <tr>\n",
              "      <th>2020-07-16</th>\n",
              "      <td>286</td>\n",
              "    </tr>\n",
              "    <tr>\n",
              "      <th>...</th>\n",
              "      <td>...</td>\n",
              "    </tr>\n",
              "    <tr>\n",
              "      <th>2020-01-25</th>\n",
              "      <td>1</td>\n",
              "    </tr>\n",
              "    <tr>\n",
              "      <th>2020-01-24</th>\n",
              "      <td>1</td>\n",
              "    </tr>\n",
              "    <tr>\n",
              "      <th>2020-01-30</th>\n",
              "      <td>1</td>\n",
              "    </tr>\n",
              "    <tr>\n",
              "      <th>2020-02-22</th>\n",
              "      <td>1</td>\n",
              "    </tr>\n",
              "    <tr>\n",
              "      <th>2020-02-13</th>\n",
              "      <td>1</td>\n",
              "    </tr>\n",
              "  </tbody>\n",
              "</table>\n",
              "<p>159 rows × 1 columns</p>\n",
              "</div>"
            ],
            "text/plain": [
              "            発表件数\n",
              "2020-07-23   366\n",
              "2020-07-25   295\n",
              "2020-07-17   293\n",
              "2020-07-18   290\n",
              "2020-07-16   286\n",
              "...          ...\n",
              "2020-01-25     1\n",
              "2020-01-24     1\n",
              "2020-01-30     1\n",
              "2020-02-22     1\n",
              "2020-02-13     1\n",
              "\n",
              "[159 rows x 1 columns]"
            ]
          },
          "metadata": {
            "tags": []
          },
          "execution_count": 7
        }
      ]
    },
    {
      "cell_type": "code",
      "metadata": {
        "id": "-Ol-87T_82Pq",
        "colab_type": "code",
        "colab": {
          "base_uri": "https://localhost:8080/",
          "height": 493
        },
        "outputId": "4887ee98-c4b2-4657-9c5b-93a5a07f132a"
      },
      "source": [
        "# データのマッピング\n",
        "for row in df.itertuples():\n",
        "  # 入力行の日付と発表件数\n",
        "  input_date_str = row[0] # 日付\n",
        "  input_number_of_cases = row[1] # 発表件数\n",
        "\n",
        "  # 入力行の日付（String）をDateに変換\n",
        "  input_date_datetime = datetime.datetime.strptime(input_date_str, '%Y-%m-%d')\n",
        "  input_date_date = datetime.date(input_date_datetime.year, input_date_datetime.month, input_date_datetime.day)\n",
        "\n",
        "  # 入力行の日付が何週目の何日目にあたるか\n",
        "  input_week_passed, input_day_passed = getNumberOfWeeksAndDays(START_DAY, input_date_date)\n",
        "  # あまり0のときは7日目にあたるので数値補正\n",
        "  if input_day_passed == 0:\n",
        "    input_day_passed = 7\n",
        "\n",
        "  # 結果格納リストにマッピング\n",
        "  result[int(input_week_passed-1)][int(input_day_passed-1)] = input_number_of_cases\n",
        "\n",
        "result"
      ],
      "execution_count": 8,
      "outputs": [
        {
          "output_type": "execute_result",
          "data": {
            "text/plain": [
              "[[0, 0, 0, 0, 0, 1, 1],\n",
              " [0, 0, 0, 0, 1, 0, 0],\n",
              " [0, 0, 0, 0, 0, 0, 0],\n",
              " [0, 0, 0, 0, 1, 2, 8],\n",
              " [5, 0, 3, 3, 0, 3, 1],\n",
              " [0, 3, 0, 3, 1, 0, 1],\n",
              " [2, 0, 1, 4, 8, 6, 6],\n",
              " [0, 0, 3, 6, 2, 2, 10],\n",
              " [3, 0, 12, 9, 7, 11, 7],\n",
              " [3, 16, 18, 41, 46, 40, 64],\n",
              " [72, 12, 78, 67, 98, 92, 118],\n",
              " [141, 85, 87, 156, 183, 199, 198],\n",
              " [174, 100, 159, 127, 151, 206, 186],\n",
              " [109, 101, 123, 123, 134, 170, 119],\n",
              " [82, 41, 113, 47, 59, 165, 154],\n",
              " [93, 87, 57, 37, 23, 39, 36],\n",
              " [22, 15, 27, 10, 30, 9, 14],\n",
              " [5, 10, 5, 5, 11, 3, 2],\n",
              " [14, 8, 10, 11, 15, 21, 14],\n",
              " [5, 13, 34, 12, 28, 20, 26],\n",
              " [14, 13, 12, 18, 22, 25, 24],\n",
              " [47, 48, 27, 16, 41, 35, 39],\n",
              " [34, 29, 31, 55, 48, 54, 57],\n",
              " [60, 58, 54, 67, 107, 124, 131],\n",
              " [111, 102, 106, 75, 224, 243, 206],\n",
              " [206, 119, 143, 165, 286, 293, 290],\n",
              " [188, 168, 237, 238, 366, 260, 295],\n",
              " [239, 0, 0, 0, 0, 0, 0]]"
            ]
          },
          "metadata": {
            "tags": []
          },
          "execution_count": 8
        }
      ]
    },
    {
      "cell_type": "code",
      "metadata": {
        "id": "hMIdHl2FFJ_R",
        "colab_type": "code",
        "colab": {
          "base_uri": "https://localhost:8080/",
          "height": 71
        },
        "outputId": "aef93143-8f29-4427-e516-5a0973dd8c49"
      },
      "source": [
        "import seaborn as sns\n",
        "\n",
        "# マッピングされたリストをデータフレームに\n",
        "result_df = pd.DataFrame(result)\n",
        "\n",
        "# 行名を変更\n",
        "BASE_DATE = datetime.date(year=2020, month=1, day=19)\n",
        "for row in result_df.itertuples():\n",
        "  week_start_day = BASE_DATE + datetime.timedelta(days=row[0]*7)\n",
        "  result_df=result_df.rename(index={int(row[0]): 'W: ' + str(week_start_day)})\n",
        "\n",
        "# 列名を曜日に変更\n",
        "result_df = result_df.rename(columns={0: 'Sun', 1: 'Mon', 2: 'Tue', 3: 'Wed', 4: 'Thu', 5: 'Fri', 6: 'Sat'})"
      ],
      "execution_count": 9,
      "outputs": [
        {
          "output_type": "stream",
          "text": [
            "/usr/local/lib/python3.6/dist-packages/statsmodels/tools/_testing.py:19: FutureWarning: pandas.util.testing is deprecated. Use the functions in the public API at pandas.testing instead.\n",
            "  import pandas.util.testing as tm\n"
          ],
          "name": "stderr"
        }
      ]
    },
    {
      "cell_type": "code",
      "metadata": {
        "id": "zp9Ii5jbVudX",
        "colab_type": "code",
        "colab": {
          "base_uri": "https://localhost:8080/",
          "height": 661
        },
        "outputId": "86d8258a-ddfa-40e0-8d95-6dff3edcf442"
      },
      "source": [
        "# 結果を画像として出力\n",
        "fig,ax = plt.subplots(figsize=((len(result_df.columns)+1)*1.2, (len(result_df)+1)*0.4))\n",
        "ax.axis('off')\n",
        "tbl = ax.table(cellText=result_df.values,\n",
        "               bbox=[0,0,1,1],\n",
        "               colLabels=result_df.columns,\n",
        "               rowLabels=result_df.index)\n",
        "# plt.savefig('table.png') #PNG画像出力\n",
        "plt.show() "
      ],
      "execution_count": 10,
      "outputs": [
        {
          "output_type": "display_data",
          "data": {
            "image/png": "[encoded data removed]",
            "text/plain": [
              "<Figure size 691.2x835.2 with 1 Axes>"
            ]
          },
          "metadata": {
            "tags": [],
            "needs_background": "light"
          }
        }
      ]
    }
  ]
}